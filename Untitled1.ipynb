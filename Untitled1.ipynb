{
 "cells": [
  {
   "cell_type": "code",
   "execution_count": 18,
   "id": "28ed82ae",
   "metadata": {},
   "outputs": [],
   "source": [
    "import cv2 as a\n",
    "import numpy as np"
   ]
  },
  {
   "cell_type": "code",
   "execution_count": 19,
   "id": "a7e0e1e9",
   "metadata": {},
   "outputs": [],
   "source": [
    "img=a.imread(\"sa.jpg\")"
   ]
  },
  {
   "cell_type": "code",
   "execution_count": 3,
   "id": "ed83bcaf",
   "metadata": {},
   "outputs": [],
   "source": [
    "flages=[i for i in dir(a) if i.startswith('COLOR_BGR2')]"
   ]
  },
  {
   "cell_type": "code",
   "execution_count": 4,
   "id": "ac0124a3",
   "metadata": {},
   "outputs": [
    {
     "data": {
      "text/plain": [
       "['COLOR_BGR2BGR555',\n",
       " 'COLOR_BGR2BGR565',\n",
       " 'COLOR_BGR2BGRA',\n",
       " 'COLOR_BGR2GRAY',\n",
       " 'COLOR_BGR2HLS',\n",
       " 'COLOR_BGR2HLS_FULL',\n",
       " 'COLOR_BGR2HSV',\n",
       " 'COLOR_BGR2HSV_FULL',\n",
       " 'COLOR_BGR2LAB',\n",
       " 'COLOR_BGR2LUV',\n",
       " 'COLOR_BGR2Lab',\n",
       " 'COLOR_BGR2Luv',\n",
       " 'COLOR_BGR2RGB',\n",
       " 'COLOR_BGR2RGBA',\n",
       " 'COLOR_BGR2XYZ',\n",
       " 'COLOR_BGR2YCR_CB',\n",
       " 'COLOR_BGR2YCrCb',\n",
       " 'COLOR_BGR2YUV',\n",
       " 'COLOR_BGR2YUV_I420',\n",
       " 'COLOR_BGR2YUV_IYUV',\n",
       " 'COLOR_BGR2YUV_YV12']"
      ]
     },
     "execution_count": 4,
     "metadata": {},
     "output_type": "execute_result"
    }
   ],
   "source": [
    "flages"
   ]
  },
  {
   "cell_type": "code",
   "execution_count": 5,
   "id": "4545967b",
   "metadata": {},
   "outputs": [],
   "source": [
    "con=a.cvtColor(img,a.COLOR_BGR2HLS)"
   ]
  },
  {
   "cell_type": "code",
   "execution_count": 6,
   "id": "6914af5d",
   "metadata": {},
   "outputs": [],
   "source": [
    "a.imshow(\"image\",con)\n",
    "a.waitKey(0)\n",
    "a.destroyAllWindows()"
   ]
  },
  {
   "cell_type": "code",
   "execution_count": 7,
   "id": "43455290",
   "metadata": {},
   "outputs": [
    {
     "name": "stdout",
     "output_type": "stream",
     "text": [
      "(1944, 1400, 3)\n"
     ]
    }
   ],
   "source": [
    "print(img.shape)"
   ]
  },
  {
   "cell_type": "code",
   "execution_count": 8,
   "id": "10cd1581",
   "metadata": {},
   "outputs": [],
   "source": [
    "img_re=a.resize(img,None,fx=0.5,fy=0.5,interpolation=a.INTER_LINEAR)\n"
   ]
  },
  {
   "cell_type": "code",
   "execution_count": 9,
   "id": "0298e4e3",
   "metadata": {},
   "outputs": [
    {
     "name": "stdout",
     "output_type": "stream",
     "text": [
      "(972, 700, 3)\n"
     ]
    }
   ],
   "source": [
    "print(img_re.shape)\n",
    "a.imshow(\"image\",img_re)\n",
    "a.waitKey(0)\n",
    "a.destroyAllWindows()"
   ]
  },
  {
   "cell_type": "code",
   "execution_count": 10,
   "id": "be8d0b05",
   "metadata": {},
   "outputs": [],
   "source": [
    "img_re2=a.resize(img,(360,360))"
   ]
  },
  {
   "cell_type": "code",
   "execution_count": 11,
   "id": "eef09ec5",
   "metadata": {},
   "outputs": [],
   "source": [
    "a.imshow(\"Original Image\",img)\n",
    "a.waitKey(0)\n",
    "a.imshow(\"resized Image\",img_re2)\n",
    "a.waitKey(0)\n",
    "a.destroyAllWindows()"
   ]
  },
  {
   "cell_type": "code",
   "execution_count": 14,
   "id": "33f15fe1",
   "metadata": {},
   "outputs": [],
   "source": [
    "ker=np.ones((3,5),float)/25"
   ]
  },
  {
   "cell_type": "code",
   "execution_count": 15,
   "id": "813c93b7",
   "metadata": {},
   "outputs": [],
   "source": [
    "tdf=a.filter2D(img,-1,ker)"
   ]
  },
  {
   "cell_type": "code",
   "execution_count": 16,
   "id": "c6afb52b",
   "metadata": {},
   "outputs": [],
   "source": [
    "a.imshow(\"image\",img)\n",
    "a.waitKey(0)\n",
    "a.imshow(\"2D FILTER\",tdf)\n",
    "a.waitKey(0)\n",
    "a.destroyAllWindows()"
   ]
  },
  {
   "cell_type": "code",
   "execution_count": 21,
   "id": "78473aff",
   "metadata": {},
   "outputs": [],
   "source": [
    "blur=a.blur(img,(2,2))"
   ]
  },
  {
   "cell_type": "code",
   "execution_count": 22,
   "id": "9583845b",
   "metadata": {},
   "outputs": [],
   "source": [
    "a.imshow(\"image\",blur)\n",
    "a.waitKey(0)\n",
    "a.destroyAllWindows()"
   ]
  },
  {
   "cell_type": "code",
   "execution_count": null,
   "id": "fc378bc0",
   "metadata": {},
   "outputs": [],
   "source": []
  }
 ],
 "metadata": {
  "kernelspec": {
   "display_name": "Python 3 (ipykernel)",
   "language": "python",
   "name": "python3"
  },
  "language_info": {
   "codemirror_mode": {
    "name": "ipython",
    "version": 3
   },
   "file_extension": ".py",
   "mimetype": "text/x-python",
   "name": "python",
   "nbconvert_exporter": "python",
   "pygments_lexer": "ipython3",
   "version": "3.9.15"
  }
 },
 "nbformat": 4,
 "nbformat_minor": 5
}
